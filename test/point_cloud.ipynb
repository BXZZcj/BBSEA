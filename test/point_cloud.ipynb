{
 "cells": [
  {
   "cell_type": "code",
   "execution_count": 49,
   "metadata": {},
   "outputs": [],
   "source": [
    "from torchvision.io import read_image\n",
    "import torch\n",
    "import matplotlib.pyplot as plt\n",
    "from plyfile import PlyData, PlyElement\n",
    "import numpy as np"
   ]
  },
  {
   "cell_type": "code",
   "execution_count": 105,
   "metadata": {},
   "outputs": [],
   "source": [
    "depth_img=read_image(\"/root/BBSEA/images/lovers_depth.png\")[0]\n",
    "rgb_img=read_image(\"/root/BBSEA/images/lovers_rgb.png\")"
   ]
  },
  {
   "cell_type": "code",
   "execution_count": 106,
   "metadata": {},
   "outputs": [
    {
     "name": "stdout",
     "output_type": "stream",
     "text": [
      "torch.Size([219, 341])\n",
      "torch.Size([4, 219, 341])\n"
     ]
    }
   ],
   "source": [
    "print(depth_img.shape)\n",
    "print(rgb_img.shape)"
   ]
  },
  {
   "cell_type": "code",
   "execution_count": 133,
   "metadata": {},
   "outputs": [
    {
     "data": {
      "text/plain": [
       "torch.Tensor"
      ]
     },
     "execution_count": 133,
     "metadata": {},
     "output_type": "execute_result"
    }
   ],
   "source": [
    "type(depth_img)"
   ]
  },
  {
   "cell_type": "code",
   "execution_count": 129,
   "metadata": {},
   "outputs": [],
   "source": [
    "camera_factor, fx, fy, cx, cy = 4, 700, 700, 170.5, 109.5\n",
    "\n",
    "height, width = depth_img.shape\n",
    "x = torch.arange(width).view(1, -1).repeat(height, 1).float()\n",
    "y = torch.arange(height).view(-1, 1).repeat(1, width).float()\n",
    "x = (x - cx) / fx\n",
    "y = (y - cy) / fy\n",
    "\n",
    "z = (255-depth_img.float())/camera_factor  # 假设深度值越小表示越近\n",
    "\n",
    "X = x * z\n",
    "Y = y * z\n",
    "Z = z\n",
    "\n",
    "# 假设rgb_img是[3, height, width]，如果不是，请根据实际情况调整\n",
    "R = rgb_img[0]\n",
    "G = rgb_img[1]\n",
    "B = rgb_img[2]\n",
    "\n",
    "pointcloud = torch.stack((X, Y, Z, R, G, B), dim=-1)\n",
    "# pointcloud = pointcloud.cpu().numpy()"
   ]
  },
  {
   "cell_type": "code",
   "execution_count": 130,
   "metadata": {},
   "outputs": [
    {
     "name": "stdout",
     "output_type": "stream",
     "text": [
      "tensor(63.7500) tensor(0.)\n",
      "tensor([[55.7500, 57.0000, 57.0000,  ..., 60.7500, 60.7500, 60.7500],\n",
      "        [54.7500, 42.5000, 43.5000,  ..., 62.2500, 62.2500, 62.2500],\n",
      "        [54.7500, 42.5000, 44.0000,  ..., 62.2500, 62.2500, 62.2500],\n",
      "        ...,\n",
      "        [45.5000, 39.5000, 41.0000,  ..., 44.7500, 44.7500, 44.7500],\n",
      "        [45.5000, 39.5000, 40.2500,  ..., 44.7500, 44.7500, 44.7500],\n",
      "        [45.5000, 39.5000, 40.2500,  ..., 44.7500, 44.7500, 44.7500]])\n"
     ]
    }
   ],
   "source": [
    "print(Z.max(),Z.min())\n",
    "print(Z)"
   ]
  },
  {
   "cell_type": "code",
   "execution_count": 131,
   "metadata": {},
   "outputs": [
    {
     "data": {
      "text/plain": [
       "tensor([-6.9643e-03, -6.2679e-02,  9.7500e+00,  1.1000e+01,  2.8000e+01,\n",
       "         4.2000e+01])"
      ]
     },
     "execution_count": 131,
     "metadata": {},
     "output_type": "execute_result"
    }
   ],
   "source": [
    "pointcloud[105,170]"
   ]
  },
  {
   "cell_type": "code",
   "execution_count": 132,
   "metadata": {},
   "outputs": [],
   "source": [
    "vertex = np.array([(pointcloud[i, j, 0], pointcloud[i, j, 1], pointcloud[i, j, 2],\n",
    "                    pointcloud[i, j, 3], pointcloud[i, j, 4], pointcloud[i, j, 5])\n",
    "                   for i in range(pointcloud.shape[0])\n",
    "                   for j in range(pointcloud.shape[1])],\n",
    "                  dtype=[('x', 'f4'), ('y', 'f4'), ('z', 'f4'),\n",
    "                         ('red', 'u1'), ('green', 'u1'), ('blue', 'u1')])\n",
    "\n",
    "el = PlyElement.describe(vertex, 'vertex', comments=['vertices with color'])\n",
    "PlyData([el], text=True).write('lovers_point_cloud.ply')"
   ]
  },
  {
   "cell_type": "code",
   "execution_count": null,
   "metadata": {},
   "outputs": [],
   "source": []
  }
 ],
 "metadata": {
  "kernelspec": {
   "display_name": "bbsea",
   "language": "python",
   "name": "python3"
  },
  "language_info": {
   "codemirror_mode": {
    "name": "ipython",
    "version": 3
   },
   "file_extension": ".py",
   "mimetype": "text/x-python",
   "name": "python",
   "nbconvert_exporter": "python",
   "pygments_lexer": "ipython3",
   "version": "3.8.19"
  }
 },
 "nbformat": 4,
 "nbformat_minor": 2
}
